{
 "cells": [
  {
   "cell_type": "markdown",
   "id": "5deba43d-b3a0-4bc4-8e12-8ed1097efc8c",
   "metadata": {},
   "source": [
    "# Data Science Tools and Ecosystem"
   ]
  },
  {
   "cell_type": "markdown",
   "id": "605f0f49-d5b3-40f3-a94d-6ca95e1f1d08",
   "metadata": {},
   "source": [
    "En este cuaderno, se resumen las herramientas y ecosistemas de ciencia de datos."
   ]
  },
  {
   "cell_type": "markdown",
   "id": "23352f53-9577-4516-9d79-a50c12761f89",
   "metadata": {},
   "source": [
    "**Objetivos:**\n",
    "- Añadir celdas en Markdown.\n",
    "- Listar lenguajes populares para ciencia de datos.\n",
    "- Listar bibliotecas utilizadas para ciencia de datos.\n",
    "- Crear tablas con Markdown\n",
    "- Ejemplos de expresiones aritméticas en python."
   ]
  },
  {
   "cell_type": "markdown",
   "id": "3b0f34f6-e16b-402c-8f67-d50eac12b7ac",
   "metadata": {},
   "source": [
    "Algunos de los lenguajes populares que utilizan los científicos de datos son:\n",
    "1. Python\n",
    "2. R\n",
    "3. Java"
   ]
  },
  {
   "cell_type": "markdown",
   "id": "8095287f-6482-4387-9c57-99b9de0123c9",
   "metadata": {},
   "source": [
    "Algunas de las bibliotecas comúnmente utilizadas por los científicos de datos incluyen:\n",
    "1. Matplotlib\n",
    "2. Pandas\n",
    "3. NumPy"
   ]
  },
  {
   "cell_type": "markdown",
   "id": "eac5ab64-7ffa-4a13-aa6e-a581248595e6",
   "metadata": {},
   "source": [
    "| Herramientas de Ciencia de Datos |\n",
    "|----------------------------------|\n",
    "| Docker |\n",
    "| Scikit-Learn |\n",
    "| Hadoop |"
   ]
  },
  {
   "cell_type": "markdown",
   "id": "faa67418-866a-4e80-84d3-53f1e6f5a68c",
   "metadata": {},
   "source": [
    "### A continuación, se presentan algunos ejemplos de evaluación de expresiones aritméticas en Python."
   ]
  },
  {
   "cell_type": "code",
   "execution_count": 1,
   "id": "8627241c-1bff-4def-8588-891b2cdaee2a",
   "metadata": {},
   "outputs": [
    {
     "data": {
      "text/plain": [
       "17"
      ]
     },
     "execution_count": 1,
     "metadata": {},
     "output_type": "execute_result"
    }
   ],
   "source": [
    "(3*4)+5\n",
    "# Esta es una expresión aritmética simple para multiplicar y luego sumar enteros."
   ]
  },
  {
   "cell_type": "code",
   "execution_count": 2,
   "id": "e12e91d8-933f-421f-9324-7a4ff9237599",
   "metadata": {},
   "outputs": [
    {
     "data": {
      "text/plain": [
       "3.3333333333333335"
      ]
     },
     "execution_count": 2,
     "metadata": {},
     "output_type": "execute_result"
    }
   ],
   "source": [
    "# Esto convertirá 200 minutos a horas dividiendo por 60.\n",
    "200 / 60"
   ]
  },
  {
   "cell_type": "markdown",
   "id": "5c82e66b-37a5-4aaa-b0d0-381d7ccf4ee6",
   "metadata": {},
   "source": [
    "## Autor\n",
    "Luis Miguel Espinoza Sánchez"
   ]
  }
 ],
 "metadata": {
  "kernelspec": {
   "display_name": "Python 3 (ipykernel)",
   "language": "python",
   "name": "python3"
  },
  "language_info": {
   "codemirror_mode": {
    "name": "ipython",
    "version": 3
   },
   "file_extension": ".py",
   "mimetype": "text/x-python",
   "name": "python",
   "nbconvert_exporter": "python",
   "pygments_lexer": "ipython3",
   "version": "3.12.8"
  }
 },
 "nbformat": 4,
 "nbformat_minor": 5
}
